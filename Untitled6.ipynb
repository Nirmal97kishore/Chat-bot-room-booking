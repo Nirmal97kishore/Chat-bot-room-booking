{
 "cells": [
  {
   "cell_type": "code",
   "execution_count": null,
   "id": "c8809bec",
   "metadata": {},
   "outputs": [],
   "source": [
    "!pip install pyaudio\n",
    "!pip install gTTS\n",
    "!pip install pydub\n",
    "!pip install SpeechRecognition\n",
    "!pip install playsound"
   ]
  },
  {
   "cell_type": "code",
   "execution_count": null,
   "id": "aa1aad20",
   "metadata": {},
   "outputs": [],
   "source": [
    "import speech_recognition as sr\n",
    "import os\n",
    "from playsound import playsound\n",
    "from gtts import gTTS\n",
    "import pyaudio\n",
    "from pydub import AudioSegment\n",
    "from pydub.playback import play"
   ]
  },
  {
   "cell_type": "code",
   "execution_count": null,
   "id": "e4e19dde",
   "metadata": {},
   "outputs": [],
   "source": [
    "def speak(text):\n",
    "    tts=gTTS(text=text,lang=\"en\")\n",
    "    tts.save(\"speech.mp3\")\n",
    "    playsound(\"speech.mp3\")\n",
    "    os.remove(\"speech.mp3\")\n",
    "def listen():\n",
    "    r=sr.Recognizer()\n",
    "    with sr.Microphone() as source:\n",
    "        audio=r.listen(source)\n",
    "    try:\n",
    "        text=r.recognize_google(audio)\n",
    "        \n",
    "        return text\n",
    "    except:\n",
    "        speak(\"Sorry, I didn't understand you. Can you please repeat that?\")\n",
    "        return listen()\n",
    "def book_room():\n",
    "    speak(\"Welcome to our hotel! what is your name?\")\n",
    "    name=listen()\n",
    "    \n",
    "    speak(f\"Nice to meet you{name}.\")\n",
    "    speak(\"What's your phone number?\")\n",
    "    phone_number = listen()\n",
    "    \n",
    "    speak(\"What's your address?\")\n",
    "    address = listen()\n",
    "    \n",
    "    speak(\"What's your age?\")\n",
    "    age = listen()\n",
    "    \n",
    "    \n",
    "    speak(\"We are accepting only licence and Adhaar!as a ID proof so What type of ID do you have?\")\n",
    "    id_proof = listen()\n",
    "\n",
    "    speak(\"we have AC and Non AC rooms What type of room would you like to book?\")\n",
    "    room_type = listen()\n",
    "    \n",
    "    speak(\"When do you plan to arrive?\")\n",
    "    arrival_date = listen()\n",
    "    \n",
    "    speak(\"When do you plan to leave?\")\n",
    "    departure_date = listen()\n",
    "    type_room=\"AC\"\n",
    "    type_room1=\"Non Ac\"\n",
    "    \n",
    "    if not age>=20 and id_proof and room_type==type_room or room_type==type_room1  and  arrival_date and   departure_date and  phone_number:\n",
    "        speak(\"Sorry you are not eligible to book rooms\")\n",
    "        \n",
    "        return\n",
    "    speak(\"Great! Here are your booking details:\")\n",
    "    speak(f\"Name: {name}\")\n",
    "    \n",
    "    speak(f\"Your age is: {name}\")\n",
    "    speak(f\"Phone Number: {phone_number}\")\n",
    "    speak(f\"Address: {address}\")\n",
    "    speak(f\"ID Proof: {id_proof}\")\n",
    "    speak(f\"Room Type: {room_type}\")\n",
    "    speak(f\"Arrival Date: {arrival_date}\")\n",
    "    speak(f\"Departure Date: {departure_date}\")\n",
    "    speak(\"Thank you for choosing our hotel!\")\n",
    "          \n",
    "book_room()"
   ]
  },
  {
   "cell_type": "code",
   "execution_count": null,
   "id": "949f1446",
   "metadata": {},
   "outputs": [],
   "source": []
  }
 ],
 "metadata": {
  "kernelspec": {
   "display_name": "Python 3 (ipykernel)",
   "language": "python",
   "name": "python3"
  },
  "language_info": {
   "codemirror_mode": {
    "name": "ipython",
    "version": 3
   },
   "file_extension": ".py",
   "mimetype": "text/x-python",
   "name": "python",
   "nbconvert_exporter": "python",
   "pygments_lexer": "ipython3",
   "version": "3.9.13"
  }
 },
 "nbformat": 4,
 "nbformat_minor": 5
}
